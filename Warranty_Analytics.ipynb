{
 "cells": [
  {
   "cell_type": "code",
   "execution_count": 1,
   "id": "bd22ebbe",
   "metadata": {},
   "outputs": [],
   "source": [
    "import pandas as pd \n",
    "import matplotlib.pyplot as plt \n",
    "from sklearn.preprocessing import StandardScaler\n",
    "from sklearn.model_selection import train_test_split \n",
    "from imblearn.over_sampling import SMOTENC  \n",
    "from sklearn.neighbors import KNeighborsClassifier\n",
    "from sklearn.tree import DecisionTreeClassifier\n",
    "from sklearn.linear_model import LogisticRegression\n",
    "from sklearn.model_selection import KFold, cross_val_score\n",
    "import warnings\n",
    "import seaborn as sns\n",
    "warnings.filterwarnings(\"ignore\")\n",
    "from sklearn.model_selection import GridSearchCV"
   ]
  },
  {
   "cell_type": "code",
   "execution_count": 2,
   "id": "3d8671ac",
   "metadata": {},
   "outputs": [
    {
     "data": {
      "text/plain": [
       "20"
      ]
     },
     "execution_count": 2,
     "metadata": {},
     "output_type": "execute_result"
    }
   ],
   "source": [
    "pd.get_option('display.max_columns')"
   ]
  },
  {
   "cell_type": "code",
   "execution_count": 3,
   "id": "605721a5",
   "metadata": {},
   "outputs": [],
   "source": [
    "df = pd.read_csv(r\"warranty_data.csv\")"
   ]
  },
  {
   "cell_type": "code",
   "execution_count": 4,
   "id": "d40d822f",
   "metadata": {},
   "outputs": [
    {
     "data": {
      "text/html": [
       "<div>\n",
       "<style scoped>\n",
       "    .dataframe tbody tr th:only-of-type {\n",
       "        vertical-align: middle;\n",
       "    }\n",
       "\n",
       "    .dataframe tbody tr th {\n",
       "        vertical-align: top;\n",
       "    }\n",
       "\n",
       "    .dataframe thead th {\n",
       "        text-align: right;\n",
       "    }\n",
       "</style>\n",
       "<table border=\"1\" class=\"dataframe\">\n",
       "  <thead>\n",
       "    <tr style=\"text-align: right;\">\n",
       "      <th></th>\n",
       "      <th>Unnamed: 0</th>\n",
       "      <th>Region</th>\n",
       "      <th>State</th>\n",
       "      <th>Area</th>\n",
       "      <th>City</th>\n",
       "      <th>Consumer_profile</th>\n",
       "      <th>Product_category</th>\n",
       "      <th>Product_type</th>\n",
       "      <th>AC_1001_Issue</th>\n",
       "      <th>AC_1002_Issue</th>\n",
       "      <th>...</th>\n",
       "      <th>TV_2001_Issue</th>\n",
       "      <th>TV_2002_Issue</th>\n",
       "      <th>TV_2003_Issue</th>\n",
       "      <th>Claim_Value</th>\n",
       "      <th>Service_Centre</th>\n",
       "      <th>Product_Age</th>\n",
       "      <th>Purchased_from</th>\n",
       "      <th>Call_details</th>\n",
       "      <th>Purpose</th>\n",
       "      <th>Fraud</th>\n",
       "    </tr>\n",
       "  </thead>\n",
       "  <tbody>\n",
       "    <tr>\n",
       "      <th>0</th>\n",
       "      <td>7957</td>\n",
       "      <td>North East</td>\n",
       "      <td>Assam</td>\n",
       "      <td>Rural</td>\n",
       "      <td>Guwhati</td>\n",
       "      <td>Personal</td>\n",
       "      <td>Household</td>\n",
       "      <td>AC</td>\n",
       "      <td>0</td>\n",
       "      <td>1</td>\n",
       "      <td>...</td>\n",
       "      <td>0</td>\n",
       "      <td>0</td>\n",
       "      <td>0</td>\n",
       "      <td>4474.0</td>\n",
       "      <td>12</td>\n",
       "      <td>202</td>\n",
       "      <td>Manufacturer</td>\n",
       "      <td>30.0</td>\n",
       "      <td>Claim</td>\n",
       "      <td>0</td>\n",
       "    </tr>\n",
       "    <tr>\n",
       "      <th>1</th>\n",
       "      <td>1396</td>\n",
       "      <td>East</td>\n",
       "      <td>Delhi</td>\n",
       "      <td>Urban</td>\n",
       "      <td>New Delhi</td>\n",
       "      <td>Personal</td>\n",
       "      <td>Entertainment</td>\n",
       "      <td>TV</td>\n",
       "      <td>0</td>\n",
       "      <td>0</td>\n",
       "      <td>...</td>\n",
       "      <td>1</td>\n",
       "      <td>1</td>\n",
       "      <td>1</td>\n",
       "      <td>25000.0</td>\n",
       "      <td>13</td>\n",
       "      <td>60</td>\n",
       "      <td>Dealer</td>\n",
       "      <td>1.3</td>\n",
       "      <td>Complaint</td>\n",
       "      <td>0</td>\n",
       "    </tr>\n",
       "    <tr>\n",
       "      <th>2</th>\n",
       "      <td>7582</td>\n",
       "      <td>West</td>\n",
       "      <td>Andhra Pradesh</td>\n",
       "      <td>Rural</td>\n",
       "      <td>Hyderabad</td>\n",
       "      <td>Business</td>\n",
       "      <td>Household</td>\n",
       "      <td>AC</td>\n",
       "      <td>0</td>\n",
       "      <td>0</td>\n",
       "      <td>...</td>\n",
       "      <td>0</td>\n",
       "      <td>0</td>\n",
       "      <td>0</td>\n",
       "      <td>10000.0</td>\n",
       "      <td>12</td>\n",
       "      <td>3</td>\n",
       "      <td>Dealer</td>\n",
       "      <td>2.5</td>\n",
       "      <td>Claim</td>\n",
       "      <td>0</td>\n",
       "    </tr>\n",
       "    <tr>\n",
       "      <th>3</th>\n",
       "      <td>5824</td>\n",
       "      <td>West</td>\n",
       "      <td>Gujarat</td>\n",
       "      <td>Rural</td>\n",
       "      <td>Ahmedabad</td>\n",
       "      <td>Personal</td>\n",
       "      <td>Entertainment</td>\n",
       "      <td>TV</td>\n",
       "      <td>0</td>\n",
       "      <td>0</td>\n",
       "      <td>...</td>\n",
       "      <td>1</td>\n",
       "      <td>1</td>\n",
       "      <td>0</td>\n",
       "      <td>4216.0</td>\n",
       "      <td>10</td>\n",
       "      <td>672</td>\n",
       "      <td>Dealer</td>\n",
       "      <td>25.0</td>\n",
       "      <td>Other</td>\n",
       "      <td>0</td>\n",
       "    </tr>\n",
       "    <tr>\n",
       "      <th>4</th>\n",
       "      <td>4086</td>\n",
       "      <td>South West</td>\n",
       "      <td>Kerala</td>\n",
       "      <td>Rural</td>\n",
       "      <td>Kochi</td>\n",
       "      <td>Business</td>\n",
       "      <td>Household</td>\n",
       "      <td>AC</td>\n",
       "      <td>0</td>\n",
       "      <td>0</td>\n",
       "      <td>...</td>\n",
       "      <td>0</td>\n",
       "      <td>0</td>\n",
       "      <td>0</td>\n",
       "      <td>20000.0</td>\n",
       "      <td>13</td>\n",
       "      <td>3</td>\n",
       "      <td>Manufacturer</td>\n",
       "      <td>6.5</td>\n",
       "      <td>Claim</td>\n",
       "      <td>0</td>\n",
       "    </tr>\n",
       "  </tbody>\n",
       "</table>\n",
       "<p>5 rows × 21 columns</p>\n",
       "</div>"
      ],
      "text/plain": [
       "   Unnamed: 0      Region           State   Area       City Consumer_profile  \\\n",
       "0        7957  North East           Assam  Rural    Guwhati         Personal   \n",
       "1        1396        East           Delhi  Urban  New Delhi         Personal   \n",
       "2        7582        West  Andhra Pradesh  Rural  Hyderabad         Business   \n",
       "3        5824        West         Gujarat  Rural  Ahmedabad         Personal   \n",
       "4        4086  South West          Kerala  Rural      Kochi         Business   \n",
       "\n",
       "  Product_category Product_type  AC_1001_Issue  AC_1002_Issue  ...  \\\n",
       "0        Household           AC              0              1  ...   \n",
       "1    Entertainment           TV              0              0  ...   \n",
       "2        Household           AC              0              0  ...   \n",
       "3    Entertainment           TV              0              0  ...   \n",
       "4        Household           AC              0              0  ...   \n",
       "\n",
       "   TV_2001_Issue  TV_2002_Issue  TV_2003_Issue  Claim_Value  Service_Centre  \\\n",
       "0              0              0              0       4474.0              12   \n",
       "1              1              1              1      25000.0              13   \n",
       "2              0              0              0      10000.0              12   \n",
       "3              1              1              0       4216.0              10   \n",
       "4              0              0              0      20000.0              13   \n",
       "\n",
       "   Product_Age  Purchased_from Call_details    Purpose Fraud  \n",
       "0          202    Manufacturer         30.0      Claim     0  \n",
       "1           60          Dealer          1.3  Complaint     0  \n",
       "2            3          Dealer          2.5      Claim     0  \n",
       "3          672          Dealer         25.0      Other     0  \n",
       "4            3    Manufacturer          6.5      Claim     0  \n",
       "\n",
       "[5 rows x 21 columns]"
      ]
     },
     "execution_count": 4,
     "metadata": {},
     "output_type": "execute_result"
    }
   ],
   "source": [
    "df.head() "
   ]
  },
  {
   "cell_type": "code",
   "execution_count": 5,
   "id": "14c9e08a",
   "metadata": {},
   "outputs": [
    {
     "data": {
      "text/plain": [
       "0    7675\n",
       "1     666\n",
       "Name: Fraud, dtype: int64"
      ]
     },
     "execution_count": 5,
     "metadata": {},
     "output_type": "execute_result"
    }
   ],
   "source": [
    "df.Fraud.value_counts()"
   ]
  },
  {
   "cell_type": "code",
   "execution_count": 6,
   "id": "02be1ca7",
   "metadata": {},
   "outputs": [
    {
     "data": {
      "text/plain": [
       "Unnamed: 0            0\n",
       "Region                0\n",
       "State                 0\n",
       "Area                  0\n",
       "City                  0\n",
       "Consumer_profile      0\n",
       "Product_category      0\n",
       "Product_type          0\n",
       "AC_1001_Issue         0\n",
       "AC_1002_Issue         0\n",
       "AC_1003_Issue         0\n",
       "TV_2001_Issue         0\n",
       "TV_2002_Issue         0\n",
       "TV_2003_Issue         0\n",
       "Claim_Value         240\n",
       "Service_Centre        0\n",
       "Product_Age           0\n",
       "Purchased_from        0\n",
       "Call_details          0\n",
       "Purpose               0\n",
       "Fraud                 0\n",
       "dtype: int64"
      ]
     },
     "execution_count": 6,
     "metadata": {},
     "output_type": "execute_result"
    }
   ],
   "source": [
    "df.isna().sum() "
   ]
  },
  {
   "cell_type": "code",
   "execution_count": 7,
   "id": "db4ce127",
   "metadata": {},
   "outputs": [],
   "source": [
    "df = df[-df.Claim_Value.isna()]"
   ]
  },
  {
   "cell_type": "code",
   "execution_count": 8,
   "id": "ae7caa02",
   "metadata": {},
   "outputs": [
    {
     "data": {
      "text/plain": [
       "15    1916\n",
       "12    1726\n",
       "13    1529\n",
       "10    1338\n",
       "14    1239\n",
       "11     322\n",
       "16      31\n",
       "Name: Service_Centre, dtype: int64"
      ]
     },
     "execution_count": 8,
     "metadata": {},
     "output_type": "execute_result"
    }
   ],
   "source": [
    "df.Service_Centre.value_counts() # Since categorical I will replace with letter for better understanding"
   ]
  },
  {
   "cell_type": "code",
   "execution_count": 9,
   "id": "e1aadec0",
   "metadata": {},
   "outputs": [],
   "source": [
    "df.loc[df['Service_Centre'] == 10, 'Service_Cat'] = 'A'\n",
    "df.loc[df['Service_Centre'] == 11, 'Service_Cat'] = 'B'\n",
    "df.loc[df['Service_Centre'] == 12, 'Service_Cat'] = 'C'\n",
    "df.loc[df['Service_Centre'] == 13, 'Service_Cat'] = 'D'\n",
    "df.loc[df['Service_Centre'] == 14, 'Service_Cat'] = 'E'\n",
    "df.loc[df['Service_Centre'] == 15, 'Service_Cat'] = 'F'\n",
    "df.loc[df['Service_Centre'] == 16, 'Service_Cat'] = 'G'"
   ]
  },
  {
   "cell_type": "code",
   "execution_count": 10,
   "id": "79143f44",
   "metadata": {},
   "outputs": [],
   "source": [
    "df.drop(columns=\"Service_Centre\", inplace= True )"
   ]
  },
  {
   "cell_type": "code",
   "execution_count": 11,
   "id": "1b8d9e2c",
   "metadata": {},
   "outputs": [
    {
     "data": {
      "text/plain": [
       "Index(['Unnamed: 0', 'Region', 'State', 'Area', 'City', 'Consumer_profile',\n",
       "       'Product_category', 'Product_type', 'AC_1001_Issue', 'AC_1002_Issue',\n",
       "       'AC_1003_Issue', 'TV_2001_Issue', 'TV_2002_Issue', 'TV_2003_Issue',\n",
       "       'Claim_Value', 'Product_Age', 'Purchased_from', 'Call_details',\n",
       "       'Purpose', 'Fraud', 'Service_Cat'],\n",
       "      dtype='object')"
      ]
     },
     "execution_count": 11,
     "metadata": {},
     "output_type": "execute_result"
    }
   ],
   "source": [
    "df.columns"
   ]
  },
  {
   "cell_type": "code",
   "execution_count": 12,
   "id": "3daa2fcb",
   "metadata": {},
   "outputs": [
    {
     "name": "stdout",
     "output_type": "stream",
     "text": [
      "0: AC_1001_Issue\n",
      "1: AC_1002_Issue\n",
      "2: AC_1003_Issue\n",
      "3: TV_2001_Issue\n",
      "4: TV_2002_Issue\n",
      "5: TV_2003_Issue\n",
      "6: Claim_Value\n",
      "7: Product_Age\n",
      "8: Call_details\n",
      "9: Region_East\n",
      "10: Region_North\n",
      "11: Region_North East\n",
      "12: Region_North West\n",
      "13: Region_South\n",
      "14: Region_South East\n",
      "15: Region_South West\n",
      "16: Region_West\n",
      "17: State_Andhra Pradesh\n",
      "18: State_Assam\n",
      "19: State_Bihar\n",
      "20: State_Delhi\n",
      "21: State_Goa\n",
      "22: State_Gujarat\n",
      "23: State_HP\n",
      "24: State_Haryana\n",
      "25: State_J&K\n",
      "26: State_Jharkhand\n",
      "27: State_Karnataka\n",
      "28: State_Kerala\n",
      "29: State_MP\n",
      "30: State_Maharshtra\n",
      "31: State_Odisha\n",
      "32: State_Rajasthan\n",
      "33: State_Tamilnadu\n",
      "34: State_Telengana\n",
      "35: State_Tripura\n",
      "36: State_UP\n",
      "37: State_Uttar Pradesh\n",
      "38: State_West Bengal\n",
      "39: Area_Rural\n",
      "40: Area_Urban\n",
      "41: City_Agartala\n",
      "42: City_Ahmedabad\n",
      "43: City_Bangalore\n",
      "44: City_Bhopal\n",
      "45: City_Bhubaneswar\n",
      "46: City_Chandigarh\n",
      "47: City_Chennai\n",
      "48: City_Delhi\n",
      "49: City_Guwhati\n",
      "50: City_Hyderabad\n",
      "51: City_Jaipur\n",
      "52: City_Kochi\n",
      "53: City_Kolkata\n",
      "54: City_Lucknow\n",
      "55: City_Meerut\n",
      "56: City_Mumbai\n",
      "57: City_New Delhi\n",
      "58: City_Panaji\n",
      "59: City_Patna\n",
      "60: City_Pune\n",
      "61: City_Purnea\n",
      "62: City_Ranchi\n",
      "63: City_Shimla\n",
      "64: City_Srinagar\n",
      "65: City_Vadodara\n",
      "66: City_Vijayawada\n",
      "67: City_Vizag\n",
      "68: Consumer_profile_Business\n",
      "69: Consumer_profile_Personal\n",
      "70: Product_category_Entertainment\n",
      "71: Product_category_Household\n",
      "72: Product_type_AC\n",
      "73: Product_type_TV\n",
      "74: Purchased_from_Dealer\n",
      "75: Purchased_from_Internet\n",
      "76: Purchased_from_Manufacturer\n",
      "77: Purpose_Claim\n",
      "78: Purpose_Complaint\n",
      "79: Purpose_Other\n",
      "80: Service_Cat_A\n",
      "81: Service_Cat_B\n",
      "82: Service_Cat_C\n",
      "83: Service_Cat_D\n",
      "84: Service_Cat_E\n",
      "85: Service_Cat_F\n",
      "86: Service_Cat_G\n"
     ]
    }
   ],
   "source": [
    "# Making dummy cols for categorical data\n",
    "df = pd.get_dummies(df)\n",
    "tester = df.drop(columns=[\"Unnamed: 0\", \"Fraud\"], axis= 1)\n",
    "for i in range(len(tester.columns)):\n",
    "        print(f\"{i}: {tester.columns[i]}\")"
   ]
  },
  {
   "cell_type": "code",
   "execution_count": 13,
   "id": "3fdda26c",
   "metadata": {},
   "outputs": [
    {
     "name": "stdout",
     "output_type": "stream",
     "text": [
      "0, 1, 2, 3, 4, 5, 6, 7, 8, 9, 10, 11, 12, 13, 14, 15, 16, 17, 18, 19, 20, 21, 22, 23, 24, 25, 26, 27, 28, 29, 30, 31, 32, 33, 34, 35, 36, 37, 38, 39, 40, 41, 42, 43, 44, 45, 46, 47, 48, 49, 50, 51, 52, 53, 54, 55, 56, 57, 58, 59, 60, 61, 62, 63, 64, 65, 66, 67, 68, 69, 70, 71, 72, 73, 74, 75, 76, 77, 78, 79, 80, 81, 82, 83, 84, 85, 86, "
     ]
    }
   ],
   "source": [
    "l1 = list(range(0,87))\n",
    "for i in range(len(l1)):\n",
    "    print(l1[i], end = \", \")"
   ]
  },
  {
   "cell_type": "code",
   "execution_count": 14,
   "id": "f78c500f",
   "metadata": {},
   "outputs": [
    {
     "data": {
      "text/plain": [
       "0"
      ]
     },
     "execution_count": 14,
     "metadata": {},
     "output_type": "execute_result"
    }
   ],
   "source": [
    "df.Claim_Value.isna().sum()"
   ]
  },
  {
   "cell_type": "code",
   "execution_count": 15,
   "id": "c4d18d44",
   "metadata": {},
   "outputs": [
    {
     "name": "stdout",
     "output_type": "stream",
     "text": [
      "Before : (8101, 87), (8101,)\n",
      "\n",
      " \n",
      "\n",
      "After : (14870, 87), (14870,)\n",
      "0    7435\n",
      "1    7435\n",
      "Name: Fraud, dtype: int64\n"
     ]
    }
   ],
   "source": [
    "X = df.drop(columns=[\"Unnamed: 0\", \"Fraud\"], axis= 1)\n",
    "y = df[\"Fraud\"]\n",
    "print(f\"Before : {X.shape}, {y.shape}\")\n",
    "#sns.countplot(data=y, x = 'Fraud')\n",
    "plt.show()\n",
    "#print(y.value_counts())\n",
    "\n",
    "s1 = SMOTENC(categorical_features=[0, 1, 2, 3, 4, 5, 9, 10, 11, 12, 13, 14, 15, 16, 17, 18, 19, 20, 21, 22, 23, 24, 25, 26, 27, 28, 29, 30, 31, 32, 33, 34, 35, 36, 37, 38, 39, 40, 41, 42, 43, 44, 45, 46, 47, 48, 49, 50, 51, 52, 53, 54, 55, 56, 57, 58, 59, 60, 61, 62, 63, 64, 65, 66, 67, 68, 69, 70, 71, 72, 73, 74, 75, 76, 77, 78, 79, 80, 81, 82, 83, 84, 85, 86], random_state=69)\n",
    "X,y = s1.fit_resample(X,y)\n",
    "\n",
    "\n",
    "print(\"\\n\", \"\\n\")\n",
    "print(f\"After : {X.shape}, {y.shape}\")\n",
    "print(y.value_counts())\n",
    "#sns.countplot(data = y, x = \"Fraud\")\n",
    "\n",
    "\n",
    "\n",
    "# Split data into train and test\n",
    "X_train, X_test, y_train, y_test = train_test_split(X,y, random_state=69, shuffle= True, test_size=0.25)\n"
   ]
  },
  {
   "cell_type": "code",
   "execution_count": 16,
   "id": "c787171d",
   "metadata": {},
   "outputs": [],
   "source": [
    "s1 = StandardScaler()\n",
    "#X_train['Claim_Value'] = s1.fit_transform(X_train['Claim_Value'].values.reshape(-1,1))\n",
    "#X_train['Product_Age'] = s1.fit_transform(X_train['Product_Age'].values.reshape(-1,1))\n",
    "#X_train['Call_details'] = s1.fit_transform(X_train['Call_details'].values.reshape(-1,1))\n",
    "\n",
    "# Now I have fit and transformed training data. now just transform the test data\n",
    "#X_test['Claim_Value'] = s1.fit(X_test['Claim_Value'].values.reshape(-1,1))\n",
    "#X_test['Product_Age'] = s1.fit(X_test['Product_Age'].values.reshape(-1,1))\n",
    "#X_test['Call_details'] = s1.fit(X_test['Call_details'].values.reshape(-1,1))\n",
    "\n",
    "\n",
    "# So scale data not necessary for decision tree"
   ]
  },
  {
   "cell_type": "code",
   "execution_count": 17,
   "id": "0d3116da",
   "metadata": {},
   "outputs": [],
   "source": [
    "# Now data is balanced so taking the values and reshaping\n",
    "X = X.values\n",
    "y = y.values\n",
    "y = y.reshape(-1,1)"
   ]
  },
  {
   "cell_type": "code",
   "execution_count": 18,
   "id": "0b9a53b0",
   "metadata": {},
   "outputs": [
    {
     "name": "stdout",
     "output_type": "stream",
     "text": [
      "(14870, 87)\n",
      "(14870, 1)\n"
     ]
    }
   ],
   "source": [
    "print(X.shape)\n",
    "print(y.shape)"
   ]
  },
  {
   "cell_type": "code",
   "execution_count": 19,
   "id": "54f17435",
   "metadata": {},
   "outputs": [],
   "source": [
    "#X_train = X_train.values\n",
    "#X_test = X_test.values\n",
    "#y_train = y_train.values\n",
    "#y_test = y_test.values"
   ]
  },
  {
   "cell_type": "code",
   "execution_count": 20,
   "id": "dac7c525",
   "metadata": {},
   "outputs": [
    {
     "data": {
      "text/plain": [
       "1853"
      ]
     },
     "execution_count": 20,
     "metadata": {},
     "output_type": "execute_result"
    }
   ],
   "source": [
    "y_test.sum()"
   ]
  },
  {
   "cell_type": "code",
   "execution_count": 21,
   "id": "4da719f7",
   "metadata": {},
   "outputs": [
    {
     "data": {
      "text/plain": [
       "Purchased_from_Dealer         -0.175432\n",
       "Purchased_from_Internet       -0.135681\n",
       "AC_1002_Issue                 -0.108165\n",
       "Product_Age                   -0.090013\n",
       "Region_North West             -0.088473\n",
       "                                 ...   \n",
       "Claim_Value                    0.141641\n",
       "City_Guwhati                   0.148648\n",
       "State_Assam                    0.148648\n",
       "Purchased_from_Manufacturer    0.296648\n",
       "Fraud                          1.000000\n",
       "Name: Fraud, Length: 89, dtype: float64"
      ]
     },
     "execution_count": 21,
     "metadata": {},
     "output_type": "execute_result"
    }
   ],
   "source": [
    "temp = df.corr()\n",
    "temp.loc[:,\"Fraud\"].sort_values()"
   ]
  },
  {
   "cell_type": "markdown",
   "id": "1363c571",
   "metadata": {},
   "source": [
    "## Data is prepared to be put in model "
   ]
  },
  {
   "cell_type": "code",
   "execution_count": 22,
   "id": "c0ac77de",
   "metadata": {},
   "outputs": [
    {
     "name": "stdout",
     "output_type": "stream",
     "text": [
      "[0.82140936 0.81226466 0.81979559 0.81764389 0.79224973 0.80624327]\n",
      "[0.95857988 0.96880043 0.9612695  0.97471759 0.97255113 0.96770721]\n",
      "[0.96826251 0.96933835 0.96826251 0.98063475 0.97362756 0.96932185]\n"
     ]
    },
    {
     "data": {
      "image/png": "[encoded data removed]",
      "text/plain": [
       "<Figure size 640x480 with 1 Axes>"
      ]
     },
     "metadata": {},
     "output_type": "display_data"
    }
   ],
   "source": [
    "# I will evaluae performance of 3 models\n",
    "models = {\"Logistic Regression\" : LogisticRegression(), \"KNN\" : KNeighborsClassifier(), \"Decision Tree\" : DecisionTreeClassifier()}\n",
    "results = []\n",
    "for model in models.values():\n",
    "    kf = KFold(n_splits=6, random_state=69, shuffle=True)\n",
    "    cv_results = cross_val_score(model, X_train, y_train, cv = kf)\n",
    "    results.append(cv_results)\n",
    "for i in results:\n",
    "    print(i)\n",
    "plt.boxplot(results, labels = models.keys())\n",
    "plt.show()"
   ]
  },
  {
   "cell_type": "code",
   "execution_count": 23,
   "id": "373d6267",
   "metadata": {},
   "outputs": [
    {
     "name": "stdout",
     "output_type": "stream",
     "text": [
      "Logistic Regression:0.8227541689080151\n",
      "KNN:0.9725658956428187\n",
      "Decision Tree:0.9747175901022055\n"
     ]
    }
   ],
   "source": [
    "# So decision tree fits so well that I dont need to do hyperparamter tuning. now checking score on test set\n",
    "for name, model in models.items():\n",
    "    model.fit(X_train,y_train)\n",
    "    model_score = model.score(X_test,y_test)\n",
    "    print(f\"{name}:{model_score}\")"
   ]
  }
 ],
 "metadata": {
  "kernelspec": {
   "display_name": "Python 3 (ipykernel)",
   "language": "python",
   "name": "python3"
  },
  "language_info": {
   "codemirror_mode": {
    "name": "ipython",
    "version": 3
   },
   "file_extension": ".py",
   "mimetype": "text/x-python",
   "name": "python",
   "nbconvert_exporter": "python",
   "pygments_lexer": "ipython3",
   "version": "3.9.13"
  }
 },
 "nbformat": 4,
 "nbformat_minor": 5
}
